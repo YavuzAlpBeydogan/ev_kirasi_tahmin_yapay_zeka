{
 "cells": [
  {
   "cell_type": "code",
   "execution_count": 1,
   "id": "2f03613e-300d-4666-b083-83b3acf3454b",
   "metadata": {},
   "outputs": [],
   "source": [
    "import pandas as pd\n",
    "import numpy as np\n",
    "\n",
    "def olustur_veri_seti(n):\n",
    "    veri = {\n",
    "        'Aidat': [],\n",
    "        'Banyo Sayısı': [],\n",
    "        'Bina Yaşı': [],\n",
    "        'Oda Sayısı': [],\n",
    "        'Kira': []\n",
    "    }\n",
    "    \n",
    "    for _ in range(n):\n",
    "        \n",
    "        if np.random.rand() < 0.5:\n",
    "            kira = np.random.randint(7000, 15001)\n",
    "            aidat_min = int(kira * 0.05)  # Kira bedelinin %5'i kadar minimum aidat\n",
    "            aidat_max = int(kira * 0.1)   # Kira bedelinin %10'u kadar maksimum aidat\n",
    "            aidat = np.random.randint(aidat_min, aidat_max + 1)\n",
    "            banyo_sayisi = np.random.randint(2, 5)\n",
    "            oda_sayisi = np.random.randint(3, 7)\n",
    "            bina_yasi = np.random.randint(0, 21)\n",
    "        \n",
    "        else:\n",
    "            kira = np.random.randint(2000, 7001)\n",
    "            aidat_min = int(kira * 0.1)    # Kira bedelinin %10'u kadar minimum aidat\n",
    "            aidat_max = int(kira * 0.2)    # Kira bedelinin %20'si kadar maksimum aidat\n",
    "            aidat = np.random.randint(aidat_min, aidat_max + 1)\n",
    "            banyo_sayisi = np.random.randint(1, 3)\n",
    "            oda_sayisi = np.random.randint(1, 3)\n",
    "            bina_yasi = np.random.randint(20, 51)\n",
    "        \n",
    "        veri['Aidat'].append(aidat)\n",
    "        veri['Banyo Sayısı'].append(banyo_sayisi)\n",
    "        veri['Oda Sayısı'].append(oda_sayisi)\n",
    "        veri['Bina Yaşı'].append(bina_yasi)\n",
    "        veri['Kira'].append(kira)\n",
    "    \n",
    "    return veri\n",
    "\n",
    "veri_seti = olustur_veri_seti(200)\n",
    "\n",
    "veri_df = pd.DataFrame(veri_seti)\n",
    "\n",
    "veri_df.to_csv('ev_veri_kira_ozellikleri.csv', index=False)\n"
   ]
  },
  {
   "cell_type": "code",
   "execution_count": 2,
   "id": "48a6a94b-a6de-4a78-bf10-6a7039261ff0",
   "metadata": {},
   "outputs": [
    {
     "name": "stdout",
     "output_type": "stream",
     "text": [
      "Model doğruluğu: 0.7872573515462623\n"
     ]
    }
   ],
   "source": [
    "import pandas as pd\n",
    "from sklearn.linear_model import LinearRegression\n",
    "from sklearn.model_selection import train_test_split\n",
    "from sklearn.metrics import r2_score\n",
    "from sklearn.svm import SVR\n",
    "\n",
    "\n",
    "veri_df = pd.read_csv('ev_veri_kira_ozellikleri.csv')\n",
    "\n",
    "X = veri_df[['Aidat', 'Banyo Sayısı', 'Bina Yaşı', 'Oda Sayısı']]\n",
    "y = veri_df['Kira']\n",
    "\n",
    "X_train, X_test, y_train, y_test = train_test_split(X, y, test_size=0.14, random_state=14)\n",
    "\n",
    "model = LinearRegression()\n",
    "model.fit(X_train, y_train)\n",
    "\n",
    "ytahminler=model.predict(X_test)\n",
    "\n",
    "r2=r2_score(y_test,ytahminler)\n",
    "\n",
    "\n",
    "print(\"Model doğruluğu:\",r2)\n",
    "\n",
    "\n"
   ]
  },
  {
   "cell_type": "code",
   "execution_count": 3,
   "id": "58040c4d",
   "metadata": {},
   "outputs": [
    {
     "name": "stdin",
     "output_type": "stream",
     "text": [
      "Aidat miktarını giriniz:  200\n",
      "Banyo sayısını giriniz:  2\n",
      "Oda sayısını giriniz:  1\n",
      "Bina yaşını giriniz:  3\n"
     ]
    },
    {
     "name": "stdout",
     "output_type": "stream",
     "text": [
      "Tahmin edilen kira miktarı: 4,078 TL\n"
     ]
    },
    {
     "name": "stderr",
     "output_type": "stream",
     "text": [
      "/Users/yb/anaconda3/lib/python3.11/site-packages/sklearn/base.py:439: UserWarning: X does not have valid feature names, but LinearRegression was fitted with feature names\n",
      "  warnings.warn(\n"
     ]
    }
   ],
   "source": [
    "def deger(prompt):\n",
    "    while True:\n",
    "        try:\n",
    "            value = int(input(prompt))\n",
    "            if value > 0:\n",
    "                return value\n",
    "            else:\n",
    "                print(\"Lütfen 0'dan yüksek bir değer giriniz.\")\n",
    "        except ValueError:\n",
    "            print(\"Lütfen geçerli bir tam sayı giriniz.\")\n",
    "\n",
    "aidat = deger(\"Aidat miktarını giriniz: \")\n",
    "banyo_sayisi = deger(\"Banyo sayısını giriniz: \")\n",
    "oda_sayisi = deger(\"Oda sayısını giriniz: \")\n",
    "bina_yasi = deger(\"Bina yaşını giriniz: \")\n",
    "\n",
    "tahmin_kira = model.predict([[aidat, banyo_sayisi, bina_yasi, oda_sayisi]])\n",
    "tahmin_kira_tl = \"{:,.0f} TL\".format(round(tahmin_kira[0]))\n",
    "print(\"Tahmin edilen kira miktarı:\", tahmin_kira_tl)"
   ]
  },
  {
   "cell_type": "code",
   "execution_count": null,
   "id": "747c84ea-fe35-4de0-8898-d20562c62abf",
   "metadata": {},
   "outputs": [],
   "source": []
  }
 ],
 "metadata": {
  "kernelspec": {
   "display_name": "Python 3 (ipykernel)",
   "language": "python",
   "name": "python3"
  },
  "language_info": {
   "codemirror_mode": {
    "name": "ipython",
    "version": 3
   },
   "file_extension": ".py",
   "mimetype": "text/x-python",
   "name": "python",
   "nbconvert_exporter": "python",
   "pygments_lexer": "ipython3",
   "version": "3.11.9"
  }
 },
 "nbformat": 4,
 "nbformat_minor": 5
}
